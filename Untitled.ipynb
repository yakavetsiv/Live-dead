{
 "cells": [
  {
   "cell_type": "code",
   "execution_count": 31,
   "id": "00ffbe09-ad80-472c-b3c9-e4605a9a91ed",
   "metadata": {},
   "outputs": [],
   "source": [
    "import pandas as pd\n",
    "import matplotlib.pyplot as plt\n",
    "import numpy as np\n",
    "\n",
    "\n",
    "def clean_df(df):## clean from empty wells\n",
    "    df1 = df.copy()\n",
    "    df2 = df1[df1['Viability'] == -1]\n",
    "    indexes = []\n",
    "    for i in range(len(df2.index)):\n",
    "        index = int(df2.iloc[i]['index'])\n",
    "        indexes.append(index)\n",
    "\n",
    "    ## remove duplicates\n",
    "    ind = list(dict.fromkeys(indexes))\n",
    "\n",
    "    for index in ind:\n",
    "        df1 = df1.loc[df1[\"index\"] != index]\n",
    "        \n",
    "    return df1\n",
    "\n",
    "\n",
    "dir = 'd:/temp/Sep 7, 2022 - MF - EKGEL Ph/'\n",
    "df = pd.read_csv(dir + 'Stats_pH.csv')\n",
    "df = clean_df(df)"
   ]
  },
  {
   "cell_type": "code",
   "execution_count": null,
   "id": "1ffd9ae7-faf5-419e-a782-d0da9842ef09",
   "metadata": {},
   "outputs": [],
   "source": []
  }
 ],
 "metadata": {
  "kernelspec": {
   "display_name": "Python 3 (ipykernel)",
   "language": "python",
   "name": "python3"
  },
  "language_info": {
   "codemirror_mode": {
    "name": "ipython",
    "version": 3
   },
   "file_extension": ".py",
   "mimetype": "text/x-python",
   "name": "python",
   "nbconvert_exporter": "python",
   "pygments_lexer": "ipython3",
   "version": "3.9.7"
  }
 },
 "nbformat": 4,
 "nbformat_minor": 5
}
